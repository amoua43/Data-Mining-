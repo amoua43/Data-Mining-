{
 "cells": [
  {
   "cell_type": "markdown",
   "id": "8f3b40e6-d003-414f-9ab4-e1d57d527dbb",
   "metadata": {},
   "source": [
    "# **Final Project**"
   ]
  },
  {
   "cell_type": "markdown",
   "id": "84d5e3d4-9d70-4ffb-b7b0-51fcb25127f2",
   "metadata": {},
   "source": [
    "## **Introduction**\n",
    "\n",
    "In the digital age email remains one of the most widely used communication tools for both personal and professional interactions. However, with the convience of email brings a persistent challenge: spam. That's what we'd like to solve and determine. We'd like to see if we can classify/recognize email spam and then how we could attempt to minimize the chance of receiving spam. "
   ]
  },
  {
   "cell_type": "markdown",
   "id": "d32f8004-25d9-4c41-a3fd-ad6321118575",
   "metadata": {},
   "source": [
    "## **About the Data**\n",
    "\n",
    "For the final project, we are reusing a previous dataset from project 2, and the dataset is sourced from Kaggle. Link: https://www.kaggle.com/datasets/balaka18/email-spam-classification-dataset-csv/data \n",
    "\n",
    "This dataset has 5172 rows (the number of emails recorded) and 3002 columns. The first column indicates the Email name. The name has been set with numeric values, instead of the actual person's name. The last two columns are for predicting if an email is considered spam or non-spam. 1 indicating spam, and 0 non-spam. The other 3000 columns indicate the most common words/characters in all emails."
   ]
  },
  {
   "cell_type": "code",
   "execution_count": null,
   "id": "c199a516",
   "metadata": {},
   "outputs": [],
   "source": [
    "import pandas as pd\n",
    "import matplotlib.pyplot as plt\n",
    "import seaborn as sns\n",
    "import numpy as np\n",
    "from sklearn.feature_selection import VarianceThreshold\n",
    "from sklearn.preprocessing import StandardScaler\n",
    "from sklearn.model_selection import train_test_split\n",
    "from sklearn.linear_model import LogisticRegression\n",
    "from sklearn.naive_bayes import MultinomialNB\n",
    "from sklearn.metrics import classification_report"
   ]
  },
  {
   "cell_type": "markdown",
   "id": "eb88edbd-a9b3-40ef-aa1c-d875a3d87429",
   "metadata": {},
   "source": [
    "## **Methods**\n",
    "\n",
    "PLACEHOLDER "
   ]
  },
  {
   "cell_type": "markdown",
   "id": "8f279e0b-9535-45e6-97ba-a3b1761bb6a8",
   "metadata": {},
   "source": [
    "## **Evaluation**\n",
    "\n",
    "PLACEHOLDER"
   ]
  },
  {
   "cell_type": "markdown",
   "id": "ee2a427e-6be6-4253-845e-7f3d98cc3808",
   "metadata": {},
   "source": [
    "## **Storytelling and Conclusion**\n",
    "\n",
    "PLACEHOLDER"
   ]
  },
  {
   "cell_type": "markdown",
   "id": "5c5b58ab-e82b-4cbc-a783-e5b4ccdf03a4",
   "metadata": {},
   "source": [
    "## **Impact Section**\n",
    "\n",
    "PLACEHOLDER"
   ]
  }
 ],
 "metadata": {
  "kernelspec": {
   "display_name": "Python 3 (ipykernel)",
   "language": "python",
   "name": "python3"
  },
  "language_info": {
   "codemirror_mode": {
    "name": "ipython",
    "version": 3
   },
   "file_extension": ".py",
   "mimetype": "text/x-python",
   "name": "python",
   "nbconvert_exporter": "python",
   "pygments_lexer": "ipython3",
   "version": "3.12.8"
  }
 },
 "nbformat": 4,
 "nbformat_minor": 5
}
